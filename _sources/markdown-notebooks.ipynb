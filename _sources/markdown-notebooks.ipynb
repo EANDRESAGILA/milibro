{
 "cells": [
  {
   "cell_type": "markdown",
   "id": "4d7062be",
   "metadata": {},
   "source": [
    "# **NUESTROS PRODUCTOS EN STOCK** \n",
    "### **ALMACÈN \"EL MUEBLE\"** \n",
    "###### **ELEGANCIA,DISEÑO Y CALIDAD** \n",
    "\n",
    "\n",
    "- [PÀGINA PRINCIPAL ](intro.md)\n",
    "- [MUEBLES EN PROMOCIÒN ](promocion.md)\n",
    "- [MATERIALES USADOS ](materiales.md)\n",
    "\n",
    "## **NUESTROS PRODUCTOS EN STOCK**  \n",
    "\n",
    "![imagen](aramariorop.jpg)\n",
    "\n",
    "|**NOMBRE**|**PRECIO**|\n",
    "| :-: | :-: |\n",
    "|ARMARIO 3 PUERTAS CON ESPEJO|$270.00|\n",
    "\n",
    "![imagen](comedorli.jpg)\n",
    "|**NOMBRE**|**PRECIO**|\n",
    "| :-: | :-: |\n",
    "|Comedor Lineal|$300.00|\n",
    "\n",
    "![imagen](sofacama.jpg)\n",
    "|**NOMBRE**|**PRECIO**|\n",
    "| :-: | :-: |\n",
    "|SOFA-CAMA|$150.00|\n",
    "\n",
    "![imagen](comoda.jpg)\n",
    "|**NOMBRE**|**PRECIO**|\n",
    "| :-: | :-: |\n",
    "|Comoda Tradicional |$170.00|\n",
    "\n",
    "![imagen](puertatambo.jpg)\n",
    "|**NOMBRE**|**PRECIO**|\n",
    "| :-: | :-: |\n",
    "|Puerta Tamboreada|$155.00|\n",
    "\n",
    "![imagen](puertalineal.jpg)\n",
    "|**NOMBRE**|**PRECIO**|\n",
    "| :-: | :-: |\n",
    "|Juego de sala lineal |$770.00|"
   ]
  }
 ],
 "metadata": {
  "jupytext": {
   "cell_metadata_filter": "-all",
   "formats": "md:myst",
   "text_representation": {
    "extension": ".md",
    "format_name": "myst",
    "format_version": 0.13,
    "jupytext_version": "1.11.5"
   }
  },
  "kernelspec": {
   "display_name": "Python 3",
   "language": "python",
   "name": "python3"
  },
  "language_info": {
   "codemirror_mode": {
    "name": "ipython",
    "version": 3
   },
   "file_extension": ".py",
   "mimetype": "text/x-python",
   "name": "python",
   "nbconvert_exporter": "python",
   "pygments_lexer": "ipython3",
   "version": "3.8.14"
  },
  "source_map": [
   14
  ]
 },
 "nbformat": 4,
 "nbformat_minor": 5
}